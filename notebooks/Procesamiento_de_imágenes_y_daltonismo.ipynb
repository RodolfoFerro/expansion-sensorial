{
  "cells": [
    {
      "cell_type": "markdown",
      "metadata": {
        "id": "view-in-github",
        "colab_type": "text"
      },
      "source": [
        "<a href=\"https://colab.research.google.com/github/RodolfoFerro/expansion-sesorial/blob/main/notebooks/Procesamiento_de_im%C3%A1genes_y_daltonismo.ipynb\" target=\"_parent\"><img src=\"https://colab.research.google.com/assets/colab-badge.svg\" alt=\"Open In Colab\"/></a>"
      ]
    },
    {
      "cell_type": "markdown",
      "source": [
        "# Procesamiento de imágenes y daltonismo\n",
        "\n",
        "**¡Te doy la más cordial bienvenida! 👋**\n",
        "\n",
        "Este será tu segundo cuaderno de trabajo donde explorarás un poco, a través de manipular una imagen, cómo es que percibe los colores una persona que padece de daltonismo.\n",
        "\n",
        "Veremos que las personas daltónicas generalmente ven un espacio de color de dos dimensiones.\n",
        "\n",
        "Tras simular lo mencionado, vamos a usar la técnica de _**\"codificación temporal\"**_ para agregar información sobre un canal de color adicional, permitiendo que las personas daltónicas tengan la misma información de color que alguien con tres receptores de color visuales."
      ],
      "metadata": {
        "id": "NHirCUcArPpb"
      }
    },
    {
      "cell_type": "markdown",
      "metadata": {
        "id": "5EsVBNQ8q3_G"
      },
      "source": [
        "## Importar módulos"
      ]
    },
    {
      "cell_type": "code",
      "execution_count": null,
      "metadata": {
        "id": "PXZlC5Odq3_G"
      },
      "outputs": [],
      "source": [
        "import matplotlib.pyplot as plt\n",
        "import matplotlib.image as mpimg\n",
        "import imageio.v2 as imageio\n",
        "import pylab\n",
        "import os\n",
        "\n",
        "# Importa el modulo numpy, llamándolo \"np\"\n",
        "##################\n",
        "\n",
        "##################"
      ]
    },
    {
      "cell_type": "markdown",
      "metadata": {
        "id": "uoIfh19Oq3_H"
      },
      "source": [
        "## Definir funciones"
      ]
    },
    {
      "cell_type": "markdown",
      "metadata": {
        "id": "RQ4HfYNkq3_H"
      },
      "source": [
        "Esta función genera una película en formato .gif a partir de una serie de imágenes en formato .png."
      ]
    },
    {
      "cell_type": "code",
      "execution_count": null,
      "metadata": {
        "collapsed": true,
        "id": "iVtjFOIEq3_H"
      },
      "outputs": [],
      "source": [
        "def makemovie(n, movie_name='movie.gif'):\n",
        "    \"\"\"Genera una animación GIF.\"\"\"\n",
        "\n",
        "    images = []\n",
        "    filenames = []\n",
        "\n",
        "    for i in range(n):\n",
        "        filenames.append(\"frame\" + str(i) + \".png\")\n",
        "\n",
        "    for filename in filenames:\n",
        "        images.append(imageio.imread(filename))\n",
        "\n",
        "    imageio.mimsave(movie_name, images)"
      ]
    },
    {
      "cell_type": "markdown",
      "metadata": {
        "id": "6o4lfYF0q3_H"
      },
      "source": [
        "Esta funcion te permite visualizar imagenes de manera mas \"bonita\"."
      ]
    },
    {
      "cell_type": "code",
      "execution_count": null,
      "metadata": {
        "collapsed": true,
        "id": "qao541Ilq3_H"
      },
      "outputs": [],
      "source": [
        "def visualizar_imagen(imagen):\n",
        "    \"\"\"Función para visualizar una imagen.\"\"\"\n",
        "\n",
        "    fig = plt.figure(figsize=(7, 7))\n",
        "    ax = fig.add_subplot(111)\n",
        "    ax.imshow(imagen, interpolation=\"gaussian\")\n",
        "    ax.get_xaxis().set_visible(False)\n",
        "    ax.get_yaxis().set_visible(False)"
      ]
    },
    {
      "cell_type": "markdown",
      "metadata": {
        "id": "nIKAYbYKq3_I"
      },
      "source": [
        "Primero, vamos a visualizar una imagen de una \"Prueba de Color de Ishihara\", una de las pruebas principales para ver si una persona es daltónica o no.\n",
        "\n",
        "Para ello, es importante que descargues y subas a este cuaderno la imagen `\"cb_test.png\"`. Puedes encontrar la imagen en este link: https://github.com/RodolfoFerro/expansion-sesorial/tree/main/assets/images"
      ]
    },
    {
      "cell_type": "code",
      "execution_count": null,
      "metadata": {
        "id": "blnd7s74q3_I"
      },
      "outputs": [],
      "source": [
        "img = mpimg.imread('cb_test.png')\n",
        "\n",
        "# Usa la función \"visualizar_imagen\" para ver cómo se ve esta imagen.\n",
        "#################\n",
        "\n",
        "#################"
      ]
    },
    {
      "cell_type": "code",
      "source": [
        "# Código de utilería para cargar la imagen automáticamente.\n",
        "!wget https://raw.githubusercontent.com/RodolfoFerro/expansion-sesorial/main/assets/images/cb_test.png"
      ],
      "metadata": {
        "id": "NIcmd2setBiX"
      },
      "execution_count": null,
      "outputs": []
    },
    {
      "cell_type": "markdown",
      "metadata": {
        "id": "gB2GlAOpq3_I"
      },
      "source": [
        "**¿Puedes ver qué número está \"escondido\" dentro de la imagen?**\n",
        "\n",
        "Si no lo puedes ver... ¡Felicidades, eres daltónic@! (Aunque probablemente ya lo sabías...)"
      ]
    },
    {
      "cell_type": "markdown",
      "metadata": {
        "id": "cOFEGlqNq3_I"
      },
      "source": [
        "# Simulación del daltonismo\n",
        "\n",
        "Ahora, vamos a hacer una transformación de la imagen de arriba para que se vea \"como la vería\" una persona daltónica.\n",
        "\n",
        "Primero, vamos a hacer una copia de la imagen."
      ]
    },
    {
      "cell_type": "code",
      "execution_count": null,
      "metadata": {
        "id": "uM_go_53q3_I"
      },
      "outputs": [],
      "source": [
        "# Haz una copia de la imagen \"img\",\n",
        "# guardandola en la variable \"img_daltonico\"\n",
        "###############\n",
        "\n",
        "################"
      ]
    },
    {
      "cell_type": "markdown",
      "metadata": {
        "id": "LCeK-GQAq3_I"
      },
      "source": [
        "Vamos a simular la percepción de una persona daltónica en el canal rojo-verde. Como su nombre lo indica, este tipo de daltonismo no percibe diferencias entre el color rojo y el verde.\n",
        "\n",
        "Para simular este tipo de percepción, vamos a sustituir el canal rojo de la copia de la imagen con el **promedio de los canales rojo y verde** de la imagen original. Recuerda que el promedio de dos números X y Y es (X + Y) / 2"
      ]
    },
    {
      "cell_type": "code",
      "execution_count": null,
      "metadata": {
        "collapsed": true,
        "id": "2FEDT62Yq3_I"
      },
      "outputs": [],
      "source": [
        "img_daltonico[:, :, 0] = (img[:, :, 0] + img[:, :, 1] ) / 2.0"
      ]
    },
    {
      "cell_type": "markdown",
      "metadata": {
        "id": "8UwGlhDrq3_I"
      },
      "source": [
        "Y hacemos lo mismo con el canal verde: vamos a sustituir el canal verde de la copia de la imagen con el **promedio de los canales rojo y verde** de la imagen original."
      ]
    },
    {
      "cell_type": "code",
      "execution_count": null,
      "metadata": {
        "collapsed": true,
        "id": "dNay7HC3q3_I"
      },
      "outputs": [],
      "source": [
        "# Sustituye el canal verde de img_daltonico\n",
        "# con el promedio del canal verde y el canal rojo de img\n",
        "########\n",
        "\n",
        "########"
      ]
    },
    {
      "cell_type": "markdown",
      "metadata": {
        "id": "2l9sW6kYq3_I"
      },
      "source": [
        "Y ahora vamos a visualizar la imagen de nuevo."
      ]
    },
    {
      "cell_type": "code",
      "execution_count": null,
      "metadata": {
        "id": "W8SeTrZjq3_I"
      },
      "outputs": [],
      "source": [
        "# Usa la función \"visualizar_imagen\" para ver cómo se ve\n",
        "# esta nueva imagen, \"img_daltonico\".\n",
        "#########\n",
        "\n",
        "#########"
      ]
    },
    {
      "cell_type": "markdown",
      "metadata": {
        "id": "mwmgesgXq3_I"
      },
      "source": [
        "Al hacer esta transformación, hemos reducido la **dimensión del espacio de color** de la imagen de 3 dimensiones a 2 dimensiones.\n",
        "\n",
        "Nuestra siguiente misión es recuperar la información que está en esa dimensión de color (el canal verde) de alguna manera, sin explícitamente mostrar el color verde (porque estamos haciendo como si fuéramos daltónicos)."
      ]
    },
    {
      "cell_type": "markdown",
      "metadata": {
        "id": "LNrZnewGq3_I"
      },
      "source": [
        "Una forma de hacerlo es usando una condición `if`. Si un pixel tiene un valor en la imagen original en el canal verde mayor que su valor en el canal rojo, vamos a hacer que aparezca negro (los daltónicos sí pueden ver el negro).\n",
        "\n",
        "Esta condición la satisfacen todos los pixeles que forman el número 73."
      ]
    },
    {
      "cell_type": "code",
      "execution_count": null,
      "metadata": {
        "collapsed": true,
        "id": "iXXHYn4Fq3_J"
      },
      "outputs": [],
      "source": [
        "# Guarda el canal verde de img en una variable llamada \"canal_verde\"\n",
        "# Guarda el canal verde de img en una variable llamada \"canal_rojo\"\n",
        "#############\n",
        "\n",
        "\n",
        "#############"
      ]
    },
    {
      "cell_type": "markdown",
      "metadata": {
        "id": "e46L-uUhq3_J"
      },
      "source": [
        "Aqui va un ejemplo de un pixel (el `(150,150)`), donde el valor en el canal verde **no** es mayor que el valor en el canal rojo."
      ]
    },
    {
      "cell_type": "code",
      "execution_count": null,
      "metadata": {
        "id": "1y4-54xiq3_J"
      },
      "outputs": [],
      "source": [
        "canal_verde[150, 150] > canal_rojo[150, 150]"
      ]
    },
    {
      "cell_type": "markdown",
      "metadata": {
        "id": "odTnmTwSq3_J"
      },
      "source": [
        "Aqui va un ejemplo de un pixel (el `(51,142)`), donde el valor en el canal verde **sí** es mayor que el valor en el canal rojo."
      ]
    },
    {
      "cell_type": "code",
      "execution_count": null,
      "metadata": {
        "id": "7QV0Rfi1q3_J"
      },
      "outputs": [],
      "source": [
        "canal_verde[51, 142] > canal_rojo[51, 142]"
      ]
    },
    {
      "cell_type": "markdown",
      "metadata": {
        "id": "5m1IWG94q3_J"
      },
      "source": [
        "Ahora, usemos un doble for-loop para iterar sobre cada pixel. Y utilizemos un \"if statement\" para cambiar a color negro todos los pixeles cuyo valor en el canal verde (en la imagen original) estén por arriba del valor del pixel en el canal rojo."
      ]
    },
    {
      "cell_type": "code",
      "execution_count": null,
      "metadata": {
        "collapsed": true,
        "id": "2_g7LRtqq3_J"
      },
      "outputs": [],
      "source": [
        "img_copy = img_daltonico.copy()\n",
        "\n",
        "dim1 = img.shape[0]\n",
        "dim2 = img.shape[1]\n",
        "\n",
        "for ind1 in range(dim1): # Iteramos sobre los indices de los renglones\n",
        "    for ind2 in range(dim2): # Y, dentro de cada renglon, iteramos sobre las columnas\n",
        "        # Usando un \"if statement\", convierte a rojo todos los pixeles\n",
        "        # cuyo valor en el canal verde es mayor que su valor en el canal rojo.\n",
        "        ###########################\n",
        "\n",
        "\n",
        "\n",
        "\n",
        "        ###########################"
      ]
    },
    {
      "cell_type": "code",
      "execution_count": null,
      "metadata": {
        "id": "baVbKy06q3_J"
      },
      "outputs": [],
      "source": [
        "visualizar_imagen(img_copy)"
      ]
    },
    {
      "cell_type": "markdown",
      "metadata": {
        "id": "y1EpNpVQq3_J"
      },
      "source": [
        "**¡Aunque fueras daltónic@, con la imagen de arriba ya sabes qué número está escondido**"
      ]
    },
    {
      "cell_type": "markdown",
      "metadata": {
        "id": "P6lcmxFEq3_J"
      },
      "source": [
        "Una forma de hacer el efecto más sutil, es sólo cambiar a color negro el pixel si se satisface la condición y si la computadora genera un número aleatorio menor a 0.3 (o el valor que tú quieras entre 0 y 1).\n",
        "\n",
        "Ejecuta la celda de abajo varias veces, para ver cómo se generan número aleatorios entre 0 y 1."
      ]
    },
    {
      "cell_type": "code",
      "execution_count": null,
      "metadata": {
        "id": "3pyp87qjq3_J"
      },
      "outputs": [],
      "source": [
        "np.random.random()"
      ]
    },
    {
      "cell_type": "markdown",
      "metadata": {
        "id": "6q4qPS2Qq3_J"
      },
      "source": [
        " Ahora, ejecuta la siguiente celda varias veces. A veces la condición es cierta, y a veces es falsa!"
      ]
    },
    {
      "cell_type": "code",
      "execution_count": null,
      "metadata": {
        "id": "cko86jyjq3_J"
      },
      "outputs": [],
      "source": [
        "img[51, 142, 1] > img[51, 142, 0] and np.random.random() < 0.3"
      ]
    },
    {
      "cell_type": "markdown",
      "metadata": {
        "id": "EKztPqhlq3_J"
      },
      "source": [
        "Agrega este aspecto aleatorio a la condición, para que solo algunos pixeles (aproximadamente un tercio de ellos) con verde > rojo se conviertan a negro."
      ]
    },
    {
      "cell_type": "code",
      "execution_count": null,
      "metadata": {
        "id": "vTQYhzDKq3_J"
      },
      "outputs": [],
      "source": [
        "# Repite lo que hicimos arriba (puedes copiar y pegar el código\n",
        "# que creas necesario), pero ahora agrega al \"if statement\" la\n",
        "# condicion de que salga un numero aleatorio menor que 0.3 y\n",
        "# comienza haciendo una nueva copia de la imagen \"img_daltonico\"\n",
        "\n",
        "#####################################\n",
        "\n",
        "\n",
        "\n",
        "\n",
        "\n",
        "\n",
        "\n",
        "\n",
        "\n",
        "\n",
        "#####################################"
      ]
    },
    {
      "cell_type": "markdown",
      "metadata": {
        "id": "oHNAD51Fq3_J"
      },
      "source": [
        "Vamos a visualizar la nueva imagen"
      ]
    },
    {
      "cell_type": "code",
      "execution_count": null,
      "metadata": {
        "id": "BRz4eIE9q3_M"
      },
      "outputs": [],
      "source": [
        "visualizar_imagen(img_copy)"
      ]
    },
    {
      "cell_type": "markdown",
      "metadata": {
        "id": "-OmXpm2Eq3_M"
      },
      "source": [
        "Finalmente, para hacerlo todo más fresón, podemos repetir esto muchas veces (con la condición del número aleatorio), ¡y juntar todas las imágenes en una película!"
      ]
    },
    {
      "cell_type": "code",
      "execution_count": null,
      "metadata": {
        "id": "VJAodorRq3_N"
      },
      "outputs": [],
      "source": [
        "num_frames = 20\n",
        "for n in range(num_frames): #este primer \"for loop\" itera sobre las distintas imágenes de la\n",
        "    # película\n",
        "\n",
        "    # Repite lo que hicimos arriba, pero ahora dentro del \"loop for\"\n",
        "    # que controla las imagenes de la pelicula.\n",
        "    # Cuida la indentación de tu código!\n",
        "    ###############################\n",
        "\n",
        "\n",
        "\n",
        "\n",
        "\n",
        "\n",
        "\n",
        "\n",
        "\n",
        "    ################################\n",
        "\n",
        "\n",
        "    visualizar_imagen(img_copy)\n",
        "    pylab.savefig(\"frame\" + str(n) + \".png\")"
      ]
    },
    {
      "cell_type": "markdown",
      "metadata": {
        "id": "oE2OxpVmq3_N"
      },
      "source": [
        "Vamos a generar la imagen."
      ]
    },
    {
      "cell_type": "code",
      "execution_count": null,
      "metadata": {
        "collapsed": true,
        "id": "qDDoZZ8nq3_N"
      },
      "outputs": [],
      "source": [
        "moviename = \"daltonismo.gif\"\n",
        "makemovie(n, moviename)"
      ]
    },
    {
      "cell_type": "markdown",
      "metadata": {
        "id": "37M1iJWmq3_N"
      },
      "source": [
        "**¡Terminamos con este cuaderno!** 🎉\n",
        "\n",
        "En resumen, lo que hicimos fue realizar una simulación de cómo ve los colores alguien con daltonismo rojo-verde. Luego, usamos los datos en la imagen digital para modificar los pixeles con señal verde, y los convertimos en oscilaciones en el color negro. De esta manera, alguien que sólo ve en 2 dimensiones de color, ahora podría ver en 3 dimensiones de color."
      ]
    },
    {
      "cell_type": "markdown",
      "source": [
        "---\n",
        "> Contenido curado por **Rodolfo Ferro**. Contacto: [@rodo_ferro](https://www.instagram.com/rodo_ferro/) & [@rodo_ferro](https://twitter.com/rodo_ferro) <br>\n",
        "[Clubes de Ciencia México](https://clubesdeciencia.mx/) - [Future Lab](https://futurelab.mx/), 2023."
      ],
      "metadata": {
        "id": "DJFCEmiqrKyU"
      }
    }
  ],
  "metadata": {
    "kernelspec": {
      "display_name": "Python [Root]",
      "language": "python",
      "name": "Python [Root]"
    },
    "language_info": {
      "codemirror_mode": {
        "name": "ipython",
        "version": 3
      },
      "file_extension": ".py",
      "mimetype": "text/x-python",
      "name": "python",
      "nbconvert_exporter": "python",
      "pygments_lexer": "ipython3",
      "version": "3.5.2"
    },
    "colab": {
      "provenance": [],
      "include_colab_link": true
    }
  },
  "nbformat": 4,
  "nbformat_minor": 0
}