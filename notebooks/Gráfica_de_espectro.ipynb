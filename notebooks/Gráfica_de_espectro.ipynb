{
  "nbformat": 4,
  "nbformat_minor": 0,
  "metadata": {
    "colab": {
      "private_outputs": true,
      "provenance": [],
      "authorship_tag": "ABX9TyM+RaVqjpd37GU03onAjdyk",
      "include_colab_link": true
    },
    "kernelspec": {
      "name": "python3",
      "display_name": "Python 3"
    },
    "language_info": {
      "name": "python"
    }
  },
  "cells": [
    {
      "cell_type": "markdown",
      "metadata": {
        "id": "view-in-github",
        "colab_type": "text"
      },
      "source": [
        "<a href=\"https://colab.research.google.com/github/RodolfoFerro/expansion-sensorial/blob/main/notebooks/Gr%C3%A1fica_de_espectro.ipynb\" target=\"_parent\"><img src=\"https://colab.research.google.com/assets/colab-badge.svg\" alt=\"Open In Colab\"/></a>"
      ]
    },
    {
      "cell_type": "code",
      "execution_count": null,
      "metadata": {
        "id": "A_0CUbYzK4CL"
      },
      "outputs": [],
      "source": [
        "import numpy as np\n",
        "import matplotlib.pyplot as plt"
      ]
    },
    {
      "cell_type": "code",
      "source": [
        "with open(\"eq_kevin_ex_390.txt\") as archivo:\n",
        "    datos_crudos_kevin = archivo.readlines()\n",
        "\n",
        "with open(\"eq_jesus_ex_390.txt\") as archivo:\n",
        "    datos_crudos_jesus = archivo.readlines()"
      ],
      "metadata": {
        "id": "3hFmQSEoLVR_"
      },
      "execution_count": null,
      "outputs": []
    },
    {
      "cell_type": "code",
      "source": [
        "print(datos_crudos_kevin[0].split())"
      ],
      "metadata": {
        "id": "Af9rhg1ULtKy"
      },
      "execution_count": null,
      "outputs": []
    },
    {
      "cell_type": "code",
      "source": [
        "datos_crudos_separados_kevin = []\n",
        "datos_crudos_separados_jesus = []\n",
        "\n",
        "for i in range(len(datos_crudos_kevin)):\n",
        "    datos_crudos_separados_kevin.append(datos_crudos_kevin[i].split())\n",
        "\n",
        "for i in range(len(datos_crudos_jesus)):\n",
        "    datos_crudos_separados_jesus.append(datos_crudos_jesus[i].split())"
      ],
      "metadata": {
        "id": "SBZ08qiiLwcU"
      },
      "execution_count": null,
      "outputs": []
    },
    {
      "cell_type": "code",
      "source": [
        "datos_limpios_kevin = []\n",
        "datos_limpios_jesus = []\n",
        "\n",
        "for i in range(len(datos_crudos_separados_kevin)):\n",
        "    datos_limpios_kevin.append([float(datos_crudos_separados_kevin[i][0]), float(datos_crudos_separados_kevin[i][1])])\n",
        "\n",
        "for i in range(len(datos_crudos_separados_jesus)):\n",
        "    datos_limpios_jesus.append([float(datos_crudos_separados_jesus[i][0]), float(datos_crudos_separados_jesus[i][1])])"
      ],
      "metadata": {
        "id": "hN9iWBWoMg7Q"
      },
      "execution_count": null,
      "outputs": []
    },
    {
      "cell_type": "code",
      "source": [
        "datos_limpios_jesus"
      ],
      "metadata": {
        "id": "eciQUpdfMh-7"
      },
      "execution_count": null,
      "outputs": []
    },
    {
      "cell_type": "code",
      "source": [
        "datos_kevin = np.array(datos_limpios_kevin[:])\n",
        "datos_jesus = np.array(datos_limpios_jesus[:])\n",
        "\n",
        "x_kevin = datos_kevin[:, 0]\n",
        "y_kevin = datos_kevin[:, 1]\n",
        "\n",
        "x_jesus = datos_jesus[:, 0]\n",
        "y_jesus = datos_jesus[:, 1]"
      ],
      "metadata": {
        "id": "wOwlXUE5M-JY"
      },
      "execution_count": null,
      "outputs": []
    },
    {
      "cell_type": "code",
      "source": [
        "import plotly.graph_objects as go\n",
        "\n",
        "fig = go.Figure()\n",
        "fig.add_trace(go.Scatter(x=x_kevin, y=y_kevin, name='Kevin'))\n",
        "fig.add_trace(go.Scatter(x=x_jesus, y=y_jesus, name='Jesús'))\n",
        "fig.show()"
      ],
      "metadata": {
        "id": "7XXiPR2JNGNW"
      },
      "execution_count": null,
      "outputs": []
    },
    {
      "cell_type": "markdown",
      "source": [
        "---\n",
        "> Contenido curado por **Rodolfo Ferro**. Contacto: [@rodo_ferro](https://www.instagram.com/rodo_ferro/) & [@rodo_ferro](https://twitter.com/rodo_ferro) <br>\n",
        "[Clubes de Ciencia México](https://clubesdeciencia.mx/) - [Future Lab](https://futurelab.mx/), 2023."
      ],
      "metadata": {
        "id": "FbGNxdNYipQv"
      }
    }
  ]
}